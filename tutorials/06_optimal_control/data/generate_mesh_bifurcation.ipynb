{
 "cells": [
  {
   "cell_type": "markdown",
   "metadata": {},
   "source": [
    "# Mesh generation for tutorial 06, case 7b\n",
    "\n",
    "This file generates the mesh which is used in the following examples:\n",
    "* 7b_stokes_neumann_control\n",
    "\n",
    "The test case is from section 5.5 of\n",
    "F. Negri. Reduced basis method for parametrized optimal control problems governed by PDEs. Master thesis, Politecnico di Milano, 2010-2011."
   ]
  },
  {
   "cell_type": "code",
   "execution_count": null,
   "metadata": {},
   "outputs": [],
   "source": [
    "import os\n",
    "import numpy as np\n",
    "import meshio\n",
    "import pygmsh\n",
    "from dolfinx import MPI\n",
    "from dolfinx.io import XDMFFile\n",
    "from dolfinx.plotting import plot"
   ]
  },
  {
   "cell_type": "markdown",
   "metadata": {},
   "source": [
    "### Geometrical parameters and related quantities"
   ]
  },
  {
   "cell_type": "code",
   "execution_count": null,
   "metadata": {},
   "outputs": [],
   "source": [
    "mu1 = 1.0\n",
    "mu2 = np.pi / 5.0\n",
    "mu3 = np.pi / 6.0\n",
    "mu4 = 1.0\n",
    "mu5 = 1.7\n",
    "mu6 = 2.2\n",
    "lcar = 0.05"
   ]
  },
  {
   "cell_type": "code",
   "execution_count": null,
   "metadata": {},
   "outputs": [],
   "source": [
    "Y = 1.0\n",
    "X = -Y\n",
    "L = 3.0\n",
    "B = Y - mu1\n",
    "H_1 = B + np.tan(mu2) * mu5\n",
    "H_2 = B - np.tan(mu3) * mu6\n",
    "L_1 = mu1 * np.cos(mu2) * np.sin(mu2)\n",
    "L_2 = (B - X) * np.cos(mu3) * np.sin(mu3)\n",
    "N = mu1 * np.cos(mu2) * np.cos(mu2)\n",
    "M = - (B - X) * np.cos(mu3) * np.cos(mu3)"
   ]
  },
  {
   "cell_type": "markdown",
   "metadata": {},
   "source": [
    "### Create mesh"
   ]
  },
  {
   "cell_type": "code",
   "execution_count": null,
   "metadata": {},
   "outputs": [],
   "source": [
    "geom = pygmsh.built_in.Geometry()\n",
    "p0 = geom.add_point([0.0, X, 0.0], lcar)\n",
    "p1 = geom.add_point([L - mu4, X, 0.0], lcar)\n",
    "p2 = geom.add_point([L, X, 0.0], lcar)\n",
    "p3 = geom.add_point([L + mu6 - L_2, H_2 + M, 0.0], lcar)\n",
    "p4 = geom.add_point([L + mu6, H_2, 0.0], lcar)\n",
    "p5 = geom.add_point([L, B, 0.0], lcar)\n",
    "p6 = geom.add_point([L + mu5, H_1, 0.0], lcar)\n",
    "p7 = geom.add_point([L + mu5 - L_1, H_1 + N, 0.0], lcar)\n",
    "p8 = geom.add_point([L, Y, 0.0], lcar)\n",
    "p9 = geom.add_point([L - mu4, Y, 0.0], lcar)\n",
    "p10 = geom.add_point([0.0, Y, 0.0], lcar)\n",
    "l0 = geom.add_line(p0, p1)\n",
    "l1 = geom.add_line(p1, p2)\n",
    "l2 = geom.add_line(p2, p3)\n",
    "l3 = geom.add_line(p3, p4)\n",
    "l4 = geom.add_line(p4, p5)\n",
    "l5 = geom.add_line(p5, p6)\n",
    "l6 = geom.add_line(p6, p7)\n",
    "l7 = geom.add_line(p7, p8)\n",
    "l8 = geom.add_line(p8, p9)\n",
    "l9 = geom.add_line(p9, p10)\n",
    "l10 = geom.add_line(p10, p0)\n",
    "l11 = geom.add_line(p1, p9)\n",
    "l12 = geom.add_line(p2, p5)\n",
    "l13 = geom.add_line(p5, p8)\n",
    "geom.add_physical([l10], label=1)\n",
    "geom.add_physical([l0, l1, l2, l4, l5, l7, l8, l9], label=2)\n",
    "geom.add_physical([l3, l6], label=3)\n",
    "geom.add_physical(l11, label=4)\n",
    "line_loop_rectangle_left = geom.add_line_loop([l0, l11, l9, l10])\n",
    "line_loop_rectangle_right = geom.add_line_loop([l1, l12, l13, l8, -l11])\n",
    "line_loop_bifurcation_top = geom.add_line_loop([l5, l6, l7, -l13])\n",
    "line_loop_bifurcation_bottom = geom.add_line_loop([l2, l3, l4, -l12])\n",
    "rectangle_left = geom.add_plane_surface(line_loop_rectangle_left)\n",
    "rectangle_right = geom.add_plane_surface(line_loop_rectangle_right)\n",
    "bifurcation_top = geom.add_plane_surface(line_loop_bifurcation_top)\n",
    "bifurcation_bottom = geom.add_plane_surface(line_loop_bifurcation_bottom)\n",
    "geom.add_physical(rectangle_left, label=11)\n",
    "geom.add_physical(rectangle_right, label=12)\n",
    "geom.add_physical(bifurcation_top, label=13)\n",
    "geom.add_physical(bifurcation_bottom, label=14)\n",
    "pygmsh_mesh = pygmsh.generate_mesh(geom)"
   ]
  },
  {
   "cell_type": "markdown",
   "metadata": {},
   "source": [
    "### Save temporary mesh and subdomains (pygmsh format)"
   ]
  },
  {
   "cell_type": "code",
   "execution_count": null,
   "metadata": {},
   "outputs": [],
   "source": [
    "meshio.write(\"bifurcation_tmp.xdmf\", meshio.Mesh(\n",
    "    points=pygmsh_mesh.points[:, :2],\n",
    "    cells={\"triangle\": pygmsh_mesh.cells_dict[\"triangle\"]},\n",
    "    cell_data={\"subdomains\": [pygmsh_mesh.cell_data_dict[\"gmsh:physical\"][\"triangle\"] - 10]}\n",
    "))"
   ]
  },
  {
   "cell_type": "markdown",
   "metadata": {},
   "source": [
    "### Save temporary boundaries (pygmsh format)"
   ]
  },
  {
   "cell_type": "code",
   "execution_count": null,
   "metadata": {},
   "outputs": [],
   "source": [
    "meshio.write(\"bifurcation_boundaries_tmp.xdmf\", meshio.Mesh(\n",
    "    points=pygmsh_mesh.points[:, :2],\n",
    "    cells={\"line\": pygmsh_mesh.cells_dict[\"line\"]},\n",
    "    cell_data={\"boundaries\": [pygmsh_mesh.cell_data_dict[\"gmsh:physical\"][\"line\"]]}\n",
    "))"
   ]
  },
  {
   "cell_type": "markdown",
   "metadata": {},
   "source": [
    "### Read back in mesh (dolfinx format)"
   ]
  },
  {
   "cell_type": "code",
   "execution_count": null,
   "metadata": {},
   "outputs": [],
   "source": [
    "with XDMFFile(MPI.comm_world, \"bifurcation_tmp.xdmf\", \"r\") as infile:\n",
    "    mesh = infile.read_mesh(name=\"Grid\")\n",
    "    mesh.name = \"mesh\""
   ]
  },
  {
   "cell_type": "code",
   "execution_count": null,
   "metadata": {},
   "outputs": [],
   "source": [
    "plot(mesh)"
   ]
  },
  {
   "cell_type": "markdown",
   "metadata": {},
   "source": [
    "### Read back in subdomains and boundaries (dolfinx format)"
   ]
  },
  {
   "cell_type": "code",
   "execution_count": null,
   "metadata": {},
   "outputs": [],
   "source": [
    "mesh.create_connectivity_all()\n",
    "with XDMFFile(MPI.comm_world, \"bifurcation_tmp.xdmf\", \"r\") as infile:\n",
    "    subdomains = infile.read_meshtags(mesh, name=\"Grid\")\n",
    "    subdomains.name = \"subdomains\"\n",
    "with XDMFFile(MPI.comm_world, \"bifurcation_boundaries_tmp.xdmf\", \"r\") as infile:\n",
    "    boundaries = infile.read_meshtags(mesh, name=\"Grid\")\n",
    "    boundaries.name = \"boundaries\""
   ]
  },
  {
   "cell_type": "markdown",
   "metadata": {},
   "source": [
    "### Save final mesh, subdomains and boundaries (dolfinx format)"
   ]
  },
  {
   "cell_type": "code",
   "execution_count": null,
   "metadata": {},
   "outputs": [],
   "source": [
    "with XDMFFile(MPI.comm_world, \"bifurcation.xdmf\", \"w\") as file:\n",
    "    file.write_mesh(mesh)\n",
    "    file.write_meshtags(subdomains)\n",
    "    file.write_meshtags(boundaries)"
   ]
  },
  {
   "cell_type": "code",
   "execution_count": null,
   "metadata": {},
   "outputs": [],
   "source": [
    "os.remove(\"bifurcation_tmp.xdmf\")\n",
    "os.remove(\"bifurcation_tmp.h5\")\n",
    "os.remove(\"bifurcation_boundaries_tmp.xdmf\")\n",
    "os.remove(\"bifurcation_boundaries_tmp.h5\")"
   ]
  }
 ],
 "metadata": {
  "kernelspec": {
   "display_name": "Python 3",
   "language": "python",
   "name": "python3"
  },
  "language_info": {
   "codemirror_mode": {
    "name": "ipython"
   },
   "file_extension": ".py",
   "mimetype": "text/x-python",
   "name": "python",
   "nbconvert_exporter": "python"
  }
 },
 "nbformat": 4,
 "nbformat_minor": 2
}
