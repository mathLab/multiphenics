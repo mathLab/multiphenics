{
 "cells": [
  {
   "cell_type": "markdown",
   "metadata": {},
   "source": [
    "# Mesh generation for tutorial 06, case 7a\n",
    "\n",
    "This file generates the mesh which is used in the following examples:\n",
    "* 7a_stokes_dirichlet_control\n",
    "\n",
    "The test case is from section 5 of\n",
    "```\n",
    "F. Negri, A. Manzoni and G. Rozza. Reduced basis approximation of parametrized optimal flow control problems for the Stokes equations. Computer and Mathematics with Applications, 69(4):319-336, 2015.\n",
    "```"
   ]
  },
  {
   "cell_type": "code",
   "execution_count": null,
   "metadata": {},
   "outputs": [],
   "source": [
    "import os\n",
    "import meshio\n",
    "import pygmsh\n",
    "from mpi4py import MPI\n",
    "from dolfinx.io import XDMFFile\n",
    "from dolfinx.plotting import plot"
   ]
  },
  {
   "cell_type": "markdown",
   "metadata": {},
   "source": [
    "### Geometrical parameters and related quantities"
   ]
  },
  {
   "cell_type": "code",
   "execution_count": null,
   "metadata": {},
   "outputs": [],
   "source": [
    "L1 = 0.9\n",
    "L2 = 0.35\n",
    "L3 = 0.55\n",
    "L4 = 0.2\n",
    "H = 1.0\n",
    "r = 0.1\n",
    "lcar = 0.025"
   ]
  },
  {
   "cell_type": "markdown",
   "metadata": {},
   "source": [
    "### Create mesh"
   ]
  },
  {
   "cell_type": "code",
   "execution_count": null,
   "metadata": {},
   "outputs": [],
   "source": [
    "geom = pygmsh.built_in.Geometry()\n",
    "p0 = geom.add_point([0.0, 0.0, 0.0], lcar)\n",
    "p1 = geom.add_point([L1, 0.0, 0.0], lcar)\n",
    "p2 = geom.add_point([L1 + L2, 0.0, 0.0], lcar)\n",
    "p3 = geom.add_point([L1 + L2 + L3, 0.0, 0.0], lcar)\n",
    "p4 = geom.add_point([L1 + L2 + L3 + L4, 0.0, 0.0], lcar)\n",
    "p5 = geom.add_point([L1 + L2 + L3 + L4, H, 0.0], lcar)\n",
    "p6 = geom.add_point([L1 + L2 + L3, H, 0.0], lcar)\n",
    "p7 = geom.add_point([L1 + L2, H, 0.0], lcar)\n",
    "p8 = geom.add_point([L1, H, 0.0], lcar)\n",
    "p9 = geom.add_point([0.0, H, 0.0], lcar)\n",
    "p10 = geom.add_point([L1, H / 2, 0.0], lcar)\n",
    "p11 = geom.add_point([L1, H / 2 + r, 0.0], lcar)\n",
    "p12 = geom.add_point([L1, H / 2 - r, 0.0], lcar)\n",
    "p13 = geom.add_point([L1 + L2, H / 2 - r, 0.0], lcar)\n",
    "p14 = geom.add_point([L1 + L2 + L3, H / 2 - 3 * r, 0.0], lcar)\n",
    "p15 = geom.add_point([L1 + L2 + L3, H / 2 + 3 * r, 0.0], lcar)\n",
    "p16 = geom.add_point([L1 + L2, H / 2 + r, 0.0], lcar)\n",
    "l0 = geom.add_line(p0, p1)\n",
    "l1 = geom.add_line(p1, p2)\n",
    "l2 = geom.add_line(p2, p3)\n",
    "l3 = geom.add_line(p3, p4)\n",
    "l4 = geom.add_line(p4, p5)\n",
    "l5 = geom.add_line(p5, p6)\n",
    "l6 = geom.add_line(p6, p7)\n",
    "l7 = geom.add_line(p7, p8)\n",
    "l8 = geom.add_line(p8, p9)\n",
    "l9 = geom.add_line(p9, p0)\n",
    "l10 = geom.add_line(p12, p13)\n",
    "l11 = geom.add_line(p13, p14)\n",
    "l12 = geom.add_line(p14, p15)\n",
    "l13 = geom.add_line(p15, p16)\n",
    "l14 = geom.add_line(p16, p11)\n",
    "l15 = geom.add_line(p13, p16)\n",
    "l16 = geom.add_line(p1, p12)\n",
    "l17 = geom.add_line(p11, p8)\n",
    "l18 = geom.add_line(p2, p13)\n",
    "l19 = geom.add_line(p16, p7)\n",
    "l20 = geom.add_line(p3, p14)\n",
    "l21 = geom.add_line(p15, p6)\n",
    "c0 = geom.add_circle_arc(p11, p10, p12)\n",
    "geom.add_physical([l9], label=1)\n",
    "geom.add_physical([l0, l1, l2, l3, l5, l6, l7, l8], label=2)\n",
    "geom.add_physical([l4], label=3)\n",
    "geom.add_physical([l10, l14], label=4)\n",
    "geom.add_physical([c0, l15], label=5)\n",
    "line_loop_subdomain1 = geom.add_line_loop([l0, l16, -c0, l17, l8, l9])\n",
    "line_loop_subdomain2a = geom.add_line_loop([l1, l18, -l10, -l16])\n",
    "line_loop_subdomain2b = geom.add_line_loop([l7, -l17, -l14, l19])\n",
    "line_loop_subdomain3a = geom.add_line_loop([l2, l20, -l11, -l18])\n",
    "line_loop_subdomain3b = geom.add_line_loop([l6, -l19, -l13, l21])\n",
    "line_loop_subdomain3c = geom.add_line_loop([l3, l4, l5, -l21, -l12, -l20])\n",
    "line_loop_subdomain4 = geom.add_line_loop([l11, l12, l13, -l15])\n",
    "subdomain1 = geom.add_plane_surface(line_loop_subdomain1)\n",
    "subdomain2a = geom.add_plane_surface(line_loop_subdomain2a)\n",
    "subdomain2b = geom.add_plane_surface(line_loop_subdomain2b)\n",
    "subdomain3a = geom.add_plane_surface(line_loop_subdomain3a)\n",
    "subdomain3b = geom.add_plane_surface(line_loop_subdomain3b)\n",
    "subdomain3c = geom.add_plane_surface(line_loop_subdomain3c)\n",
    "subdomain4 = geom.add_plane_surface(line_loop_subdomain4)\n",
    "geom.add_physical(subdomain1, label=11)\n",
    "geom.add_physical([subdomain2a, subdomain2b], label=12)\n",
    "geom.add_physical([subdomain3a, subdomain3b, subdomain3c], label=13)\n",
    "geom.add_physical(subdomain4, label=14)\n",
    "pygmsh_mesh = pygmsh.generate_mesh(geom)"
   ]
  },
  {
   "cell_type": "markdown",
   "metadata": {},
   "source": [
    "### Save temporary mesh and subdomains (pygmsh format)"
   ]
  },
  {
   "cell_type": "code",
   "execution_count": null,
   "metadata": {},
   "outputs": [],
   "source": [
    "meshio.write(\"vorticity_reduction_tmp.xdmf\", meshio.Mesh(\n",
    "    points=pygmsh_mesh.points[:, :2],\n",
    "    cells={\"triangle\": pygmsh_mesh.cells_dict[\"triangle\"]},\n",
    "    cell_data={\"subdomains\": [pygmsh_mesh.cell_data_dict[\"gmsh:physical\"][\"triangle\"] - 10]}\n",
    "))"
   ]
  },
  {
   "cell_type": "markdown",
   "metadata": {},
   "source": [
    "### Save temporary boundaries (pygmsh format)"
   ]
  },
  {
   "cell_type": "code",
   "execution_count": null,
   "metadata": {},
   "outputs": [],
   "source": [
    "meshio.write(\"vorticity_reduction_boundaries_tmp.xdmf\", meshio.Mesh(\n",
    "    points=pygmsh_mesh.points[:, :2],\n",
    "    cells={\"line\": pygmsh_mesh.cells_dict[\"line\"]},\n",
    "    cell_data={\"boundaries\": [pygmsh_mesh.cell_data_dict[\"gmsh:physical\"][\"line\"]]}\n",
    "))"
   ]
  },
  {
   "cell_type": "markdown",
   "metadata": {},
   "source": [
    "### Read back in mesh (dolfinx format)"
   ]
  },
  {
   "cell_type": "code",
   "execution_count": null,
   "metadata": {},
   "outputs": [],
   "source": [
    "with XDMFFile(MPI.COMM_WORLD, \"vorticity_reduction_tmp.xdmf\", \"r\") as infile:\n",
    "    mesh = infile.read_mesh(name=\"Grid\")\n",
    "    mesh.name = \"mesh\""
   ]
  },
  {
   "cell_type": "code",
   "execution_count": null,
   "metadata": {},
   "outputs": [],
   "source": [
    "plot(mesh)"
   ]
  },
  {
   "cell_type": "markdown",
   "metadata": {},
   "source": [
    "### Read back in subdomains and boundaries (dolfinx format)"
   ]
  },
  {
   "cell_type": "code",
   "execution_count": null,
   "metadata": {},
   "outputs": [],
   "source": [
    "mesh.create_connectivity_all()\n",
    "with XDMFFile(MPI.COMM_WORLD, \"vorticity_reduction_tmp.xdmf\", \"r\") as infile:\n",
    "    subdomains = infile.read_meshtags(mesh, name=\"Grid\")\n",
    "    subdomains.name = \"subdomains\"\n",
    "with XDMFFile(MPI.COMM_WORLD, \"vorticity_reduction_boundaries_tmp.xdmf\", \"r\") as infile:\n",
    "    boundaries = infile.read_meshtags(mesh, name=\"Grid\")\n",
    "    boundaries.name = \"boundaries\""
   ]
  },
  {
   "cell_type": "markdown",
   "metadata": {},
   "source": [
    "### Save final mesh, subdomains and boundaries (dolfinx format)"
   ]
  },
  {
   "cell_type": "code",
   "execution_count": null,
   "metadata": {},
   "outputs": [],
   "source": [
    "with XDMFFile(MPI.COMM_WORLD, \"vorticity_reduction.xdmf\", \"w\") as file:\n",
    "    file.write_mesh(mesh)\n",
    "    file.write_meshtags(subdomains)\n",
    "    file.write_meshtags(boundaries)"
   ]
  },
  {
   "cell_type": "code",
   "execution_count": null,
   "metadata": {},
   "outputs": [],
   "source": [
    "os.remove(\"vorticity_reduction_tmp.xdmf\")\n",
    "os.remove(\"vorticity_reduction_tmp.h5\")\n",
    "os.remove(\"vorticity_reduction_boundaries_tmp.xdmf\")\n",
    "os.remove(\"vorticity_reduction_boundaries_tmp.h5\")"
   ]
  }
 ],
 "metadata": {
  "kernelspec": {
   "display_name": "Python 3",
   "language": "python",
   "name": "python3"
  },
  "language_info": {
   "codemirror_mode": {
    "name": "ipython"
   },
   "file_extension": ".py",
   "mimetype": "text/x-python",
   "name": "python",
   "nbconvert_exporter": "python"
  }
 },
 "nbformat": 4,
 "nbformat_minor": 2
}
