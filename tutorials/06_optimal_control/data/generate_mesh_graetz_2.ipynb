{
 "cells": [
  {
   "cell_type": "markdown",
   "metadata": {},
   "source": [
    "# Mesh generation for tutorial 06, case 3b\n",
    "\n",
    "This file generates the mesh which is used in the following examples:\n",
    "* 3b_advection_diffusion_reaction_neumann_control\n",
    "\n",
    "The test case is from section 5.3 of\n",
    "```\n",
    "F. Negri, G. Rozza, A. Manzoni and A. Quarteroni. Reduced Basis Method for Parametrized Elliptic Optimal Control Problems. SIAM Journal on Scientific Computing, 35(5): A2316-A2340, 2013.\n",
    "```"
   ]
  },
  {
   "cell_type": "code",
   "execution_count": null,
   "metadata": {},
   "outputs": [],
   "source": [
    "import numpy as np\n",
    "import pygmsh\n",
    "from mpi4py import MPI\n",
    "from dolfinx import cpp\n",
    "from dolfinx.mesh import create_mesh, create_meshtags\n",
    "from dolfinx.io import ufl_mesh_from_gmsh, XDMFFile\n",
    "from dolfinx.plotting import plot"
   ]
  },
  {
   "cell_type": "code",
   "execution_count": null,
   "metadata": {},
   "outputs": [],
   "source": [
    "assert MPI.COMM_WORLD.size == 1, \"This mesh generation notebook is supposed to be run in serial\""
   ]
  },
  {
   "cell_type": "markdown",
   "metadata": {},
   "source": [
    "### Geometrical parameters and related quantities"
   ]
  },
  {
   "cell_type": "code",
   "execution_count": null,
   "metadata": {},
   "outputs": [],
   "source": [
    "lcar = 0.05"
   ]
  },
  {
   "cell_type": "markdown",
   "metadata": {},
   "source": [
    "### Create pygmsh mesh"
   ]
  },
  {
   "cell_type": "code",
   "execution_count": null,
   "metadata": {},
   "outputs": [],
   "source": [
    "class GenerateRectangleLines(object):\n",
    "    def __init__(self, geom):\n",
    "        self.geom = geom\n",
    "        self.points = dict()\n",
    "        self.lines = dict()\n",
    "\n",
    "    def add_point(self, x, y):\n",
    "        key = (x, y)\n",
    "        try:\n",
    "            return self.points[key]\n",
    "        except KeyError:\n",
    "            p = self.geom.add_point([x, y, 0.0], lcar)\n",
    "            self.points[key] = p\n",
    "            return p\n",
    "\n",
    "    def add_line(self, p0, p1):\n",
    "        try:\n",
    "            return self.lines[(p0, p1)]\n",
    "        except KeyError:\n",
    "            l01 = self.geom.add_line(p0, p1)\n",
    "            self.lines[(p0, p1)] = l01\n",
    "            self.lines[(p1, p0)] = -l01\n",
    "            return l01\n",
    "\n",
    "    def __call__(self, x_min, x_max, y_min, y_max):\n",
    "        p0 = self.add_point(x_min, y_min)\n",
    "        p1 = self.add_point(x_max, y_min)\n",
    "        if isinstance(y_max, list):\n",
    "            p2 = [self.add_point(x_max, y) for y in y_max]\n",
    "            p3 = self.add_point(x_min, y_max[-1])\n",
    "        else:\n",
    "            p2 = self.add_point(x_max, y_max)\n",
    "            p3 = self.add_point(x_min, y_max)\n",
    "        l0 = self.add_line(p0, p1)\n",
    "        if isinstance(y_max, list):\n",
    "            p1_p2 = [p1] + p2\n",
    "            l1 = [self.add_line(p1_p2[i], p1_p2[i + 1]) for i in range(len(p2))]\n",
    "            l2 = self.add_line(p2[-1], p3)\n",
    "        else:\n",
    "            l1 = self.add_line(p1, p2)\n",
    "            l2 = self.add_line(p2, p3)\n",
    "        l3 = self.add_line(p3, p0)\n",
    "        return (l0, l1, l2, l3)\n",
    "\n",
    "\n",
    "geom = pygmsh.built_in.Geometry()\n",
    "generate_rectangle_lines = GenerateRectangleLines(geom)\n",
    "[l0, l1, l2, l3] = generate_rectangle_lines(0.0, 1.0, 0.0, [0.3, 0.7, 1.0])\n",
    "[l4, l5, l6, _] = generate_rectangle_lines(1.0, 3.0, 0.0, 0.3)\n",
    "[_, l7, l8, _] = generate_rectangle_lines(1.0, 3.0, 0.3, 0.7)\n",
    "[_, l9, l10, _] = generate_rectangle_lines(1.0, 3.0, 0.7, 1.0)\n",
    "geom.add_physical([l0, l2, l3], label=1)\n",
    "geom.add_physical([l4, l10], label=2)\n",
    "geom.add_physical([l5, l7, l9], label=3)\n",
    "line_loop_rectangle_left = geom.add_line_loop([l0, l1[0], l1[1], l1[2], l2, l3])\n",
    "line_loop_rectangle_right_bottom = geom.add_line_loop([l4, l5, l6, -l1[0]])\n",
    "line_loop_rectangle_right_middle = geom.add_line_loop([-l6, l7, l8, -l1[1]])\n",
    "line_loop_rectangle_right_top = geom.add_line_loop([-l8, l9, l10, -l1[2]])\n",
    "rectangle_left = geom.add_plane_surface(line_loop_rectangle_left)\n",
    "rectangle_right_bottom = geom.add_plane_surface(line_loop_rectangle_right_bottom)\n",
    "rectangle_right_middle = geom.add_plane_surface(line_loop_rectangle_right_middle)\n",
    "rectangle_right_top = geom.add_plane_surface(line_loop_rectangle_right_top)\n",
    "geom.add_physical(rectangle_left, label=11)\n",
    "geom.add_physical([rectangle_right_bottom, rectangle_right_top], label=13)\n",
    "geom.add_physical(rectangle_right_middle, label=12)\n",
    "pygmsh_mesh = pygmsh.generate_mesh(geom)"
   ]
  },
  {
   "cell_type": "markdown",
   "metadata": {},
   "source": [
    "### Convert to a dolfinx mesh"
   ]
  },
  {
   "cell_type": "code",
   "execution_count": null,
   "metadata": {},
   "outputs": [],
   "source": [
    "cells, x = pygmsh_mesh.cells_dict[\"triangle\"], pygmsh_mesh.points[:, :2]\n",
    "mesh = create_mesh(MPI.COMM_WORLD, cells, x, ufl_mesh_from_gmsh(\"triangle\", x.shape[1]))"
   ]
  },
  {
   "cell_type": "code",
   "execution_count": null,
   "metadata": {},
   "outputs": [],
   "source": [
    "plot(mesh)"
   ]
  },
  {
   "cell_type": "markdown",
   "metadata": {},
   "source": [
    "### Extract subdomains as MeshTags"
   ]
  },
  {
   "cell_type": "code",
   "execution_count": null,
   "metadata": {},
   "outputs": [],
   "source": [
    "subdomains_entities = cells\n",
    "subdomains_values = pygmsh_mesh.cell_data_dict[\"gmsh:physical\"][\"triangle\"] - 10\n",
    "subdomains = create_meshtags(mesh, mesh.topology.dim,\n",
    "                             cpp.graph.AdjacencyList_int32(subdomains_entities), np.int32(subdomains_values))\n",
    "subdomains.name = \"subdomains\""
   ]
  },
  {
   "cell_type": "markdown",
   "metadata": {},
   "source": [
    "### Extract boundaries as MeshTags"
   ]
  },
  {
   "cell_type": "code",
   "execution_count": null,
   "metadata": {},
   "outputs": [],
   "source": [
    "boundaries_entities = pygmsh_mesh.cells_dict[\"line\"]\n",
    "boundaries_values = pygmsh_mesh.cell_data_dict[\"gmsh:physical\"][\"line\"]\n",
    "mesh.topology.create_connectivity(mesh.topology.dim - 1, 0)\n",
    "boundaries = create_meshtags(mesh, mesh.topology.dim - 1,\n",
    "                             cpp.graph.AdjacencyList_int32(boundaries_entities), np.int32(boundaries_values))\n",
    "boundaries.name = \"boundaries\""
   ]
  },
  {
   "cell_type": "markdown",
   "metadata": {},
   "source": [
    "### Save mesh, subdomains and boundaries"
   ]
  },
  {
   "cell_type": "code",
   "execution_count": null,
   "metadata": {},
   "outputs": [],
   "source": [
    "with XDMFFile(MPI.COMM_WORLD, \"graetz_2.xdmf\", \"w\") as file:\n",
    "    file.write_mesh(mesh)\n",
    "    file.write_meshtags(subdomains)\n",
    "    mesh.topology.create_connectivity(mesh.topology.dim - 1, mesh.topology.dim)\n",
    "    file.write_meshtags(boundaries)"
   ]
  }
 ],
 "metadata": {
  "kernelspec": {
   "display_name": "Python 3",
   "language": "python",
   "name": "python3"
  },
  "language_info": {
   "codemirror_mode": {
    "name": "ipython"
   },
   "file_extension": ".py",
   "mimetype": "text/x-python",
   "name": "python",
   "nbconvert_exporter": "python"
  }
 },
 "nbformat": 4,
 "nbformat_minor": 2
}
