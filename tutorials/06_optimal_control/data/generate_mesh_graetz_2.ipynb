{
 "cells": [
  {
   "cell_type": "markdown",
   "metadata": {},
   "source": [
    "# Mesh generation for tutorial 06, case 3b\n",
    "\n",
    "This file generates the mesh which is used in the following examples:\n",
    "* 3b_advection_diffusion_reaction_neumann_control\n",
    "\n",
    "The test case is from section 5.3 of\n",
    "```\n",
    "F. Negri, G. Rozza, A. Manzoni and A. Quarteroni. Reduced Basis Method for Parametrized Elliptic Optimal Control Problems. SIAM Journal on Scientific Computing, 35(5): A2316-A2340, 2013.\n",
    "```"
   ]
  },
  {
   "cell_type": "code",
   "execution_count": null,
   "metadata": {},
   "outputs": [],
   "source": [
    "import os\n",
    "import meshio\n",
    "import pygmsh\n",
    "from dolfinx import MPI\n",
    "from dolfinx.io import XDMFFile\n",
    "from dolfinx.plotting import plot"
   ]
  },
  {
   "cell_type": "markdown",
   "metadata": {},
   "source": [
    "### Geometrical parameters and related quantities"
   ]
  },
  {
   "cell_type": "code",
   "execution_count": null,
   "metadata": {},
   "outputs": [],
   "source": [
    "lcar = 0.05"
   ]
  },
  {
   "cell_type": "markdown",
   "metadata": {},
   "source": [
    "### Create mesh"
   ]
  },
  {
   "cell_type": "code",
   "execution_count": null,
   "metadata": {},
   "outputs": [],
   "source": [
    "class GenerateRectangleLines(object):\n",
    "    def __init__(self, geom):\n",
    "        self.geom = geom\n",
    "        self.points = dict()\n",
    "        self.lines = dict()\n",
    "\n",
    "    def add_point(self, x, y):\n",
    "        key = (x, y)\n",
    "        try:\n",
    "            return self.points[key]\n",
    "        except KeyError:\n",
    "            p = self.geom.add_point([x, y, 0.0], lcar)\n",
    "            self.points[key] = p\n",
    "            return p\n",
    "\n",
    "    def add_line(self, p0, p1):\n",
    "        try:\n",
    "            return self.lines[(p0, p1)]\n",
    "        except KeyError:\n",
    "            l01 = self.geom.add_line(p0, p1)\n",
    "            self.lines[(p0, p1)] = l01\n",
    "            self.lines[(p1, p0)] = -l01\n",
    "            return l01\n",
    "\n",
    "    def __call__(self, x_min, x_max, y_min, y_max):\n",
    "        p0 = self.add_point(x_min, y_min)\n",
    "        p1 = self.add_point(x_max, y_min)\n",
    "        if isinstance(y_max, list):\n",
    "            p2 = [self.add_point(x_max, y) for y in y_max]\n",
    "            p3 = self.add_point(x_min, y_max[-1])\n",
    "        else:\n",
    "            p2 = self.add_point(x_max, y_max)\n",
    "            p3 = self.add_point(x_min, y_max)\n",
    "        l0 = self.add_line(p0, p1)\n",
    "        if isinstance(y_max, list):\n",
    "            p1_p2 = [p1] + p2\n",
    "            l1 = [self.add_line(p1_p2[i], p1_p2[i + 1]) for i in range(len(p2))]\n",
    "            l2 = self.add_line(p2[-1], p3)\n",
    "        else:\n",
    "            l1 = self.add_line(p1, p2)\n",
    "            l2 = self.add_line(p2, p3)\n",
    "        l3 = self.add_line(p3, p0)\n",
    "        return (l0, l1, l2, l3)\n",
    "\n",
    "\n",
    "geom = pygmsh.built_in.Geometry()\n",
    "generate_rectangle_lines = GenerateRectangleLines(geom)\n",
    "[l0, l1, l2, l3] = generate_rectangle_lines(0.0, 1.0, 0.0, [0.3, 0.7, 1.0])\n",
    "[l4, l5, l6, _] = generate_rectangle_lines(1.0, 3.0, 0.0, 0.3)\n",
    "[_, l7, l8, _] = generate_rectangle_lines(1.0, 3.0, 0.3, 0.7)\n",
    "[_, l9, l10, _] = generate_rectangle_lines(1.0, 3.0, 0.7, 1.0)\n",
    "geom.add_physical([l0, l2, l3], label=1)\n",
    "geom.add_physical([l4, l10], label=2)\n",
    "geom.add_physical([l5, l7, l9], label=3)\n",
    "line_loop_rectangle_left = geom.add_line_loop([l0, l1[0], l1[1], l1[2], l2, l3])\n",
    "line_loop_rectangle_right_bottom = geom.add_line_loop([l4, l5, l6, -l1[0]])\n",
    "line_loop_rectangle_right_middle = geom.add_line_loop([-l6, l7, l8, -l1[1]])\n",
    "line_loop_rectangle_right_top = geom.add_line_loop([-l8, l9, l10, -l1[2]])\n",
    "rectangle_left = geom.add_plane_surface(line_loop_rectangle_left)\n",
    "rectangle_right_bottom = geom.add_plane_surface(line_loop_rectangle_right_bottom)\n",
    "rectangle_right_middle = geom.add_plane_surface(line_loop_rectangle_right_middle)\n",
    "rectangle_right_top = geom.add_plane_surface(line_loop_rectangle_right_top)\n",
    "geom.add_physical(rectangle_left, label=11)\n",
    "geom.add_physical([rectangle_right_bottom, rectangle_right_top], label=13)\n",
    "geom.add_physical(rectangle_right_middle, label=12)\n",
    "pygmsh_mesh = pygmsh.generate_mesh(geom)"
   ]
  },
  {
   "cell_type": "markdown",
   "metadata": {},
   "source": [
    "### Save temporary mesh and subdomains (pygmsh format)"
   ]
  },
  {
   "cell_type": "code",
   "execution_count": null,
   "metadata": {},
   "outputs": [],
   "source": [
    "meshio.write(\"graetz_2_tmp.xdmf\", meshio.Mesh(\n",
    "    points=pygmsh_mesh.points[:, :2],\n",
    "    cells={\"triangle\": pygmsh_mesh.cells_dict[\"triangle\"]},\n",
    "    cell_data={\"subdomains\": [pygmsh_mesh.cell_data_dict[\"gmsh:physical\"][\"triangle\"] - 10]}\n",
    "))"
   ]
  },
  {
   "cell_type": "markdown",
   "metadata": {},
   "source": [
    "### Save temporary boundaries (pygmsh format)"
   ]
  },
  {
   "cell_type": "code",
   "execution_count": null,
   "metadata": {},
   "outputs": [],
   "source": [
    "meshio.write(\"graetz_2_boundaries_tmp.xdmf\", meshio.Mesh(\n",
    "    points=pygmsh_mesh.points[:, :2],\n",
    "    cells={\"line\": pygmsh_mesh.cells_dict[\"line\"]},\n",
    "    cell_data={\"boundaries\": [pygmsh_mesh.cell_data_dict[\"gmsh:physical\"][\"line\"]]}\n",
    "))"
   ]
  },
  {
   "cell_type": "markdown",
   "metadata": {},
   "source": [
    "### Read back in mesh (dolfinx format)"
   ]
  },
  {
   "cell_type": "code",
   "execution_count": null,
   "metadata": {},
   "outputs": [],
   "source": [
    "with XDMFFile(MPI.comm_world, \"graetz_2_tmp.xdmf\", \"r\") as infile:\n",
    "    mesh = infile.read_mesh(name=\"Grid\")\n",
    "    mesh.name = \"mesh\""
   ]
  },
  {
   "cell_type": "code",
   "execution_count": null,
   "metadata": {},
   "outputs": [],
   "source": [
    "plot(mesh)"
   ]
  },
  {
   "cell_type": "markdown",
   "metadata": {},
   "source": [
    "### Read back in subdomains and boundaries (dolfinx format)"
   ]
  },
  {
   "cell_type": "code",
   "execution_count": null,
   "metadata": {},
   "outputs": [],
   "source": [
    "mesh.create_connectivity_all()\n",
    "with XDMFFile(MPI.comm_world, \"graetz_2_tmp.xdmf\", \"r\") as infile:\n",
    "    subdomains = infile.read_meshtags(mesh, name=\"Grid\")\n",
    "    subdomains.name = \"subdomains\"\n",
    "with XDMFFile(MPI.comm_world, \"graetz_2_boundaries_tmp.xdmf\", \"r\") as infile:\n",
    "    boundaries = infile.read_meshtags(mesh, name=\"Grid\")\n",
    "    boundaries.name = \"boundaries\""
   ]
  },
  {
   "cell_type": "markdown",
   "metadata": {},
   "source": [
    "### Save final mesh, subdomains and boundaries (dolfinx format)"
   ]
  },
  {
   "cell_type": "code",
   "execution_count": null,
   "metadata": {},
   "outputs": [],
   "source": [
    "with XDMFFile(MPI.comm_world, \"graetz_2.xdmf\", \"w\") as file:\n",
    "    file.write_mesh(mesh)\n",
    "    file.write_meshtags(subdomains)\n",
    "    file.write_meshtags(boundaries)"
   ]
  },
  {
   "cell_type": "code",
   "execution_count": null,
   "metadata": {},
   "outputs": [],
   "source": [
    "os.remove(\"graetz_2_tmp.xdmf\")\n",
    "os.remove(\"graetz_2_tmp.h5\")\n",
    "os.remove(\"graetz_2_boundaries_tmp.xdmf\")\n",
    "os.remove(\"graetz_2_boundaries_tmp.h5\")"
   ]
  }
 ],
 "metadata": {
  "kernelspec": {
   "display_name": "Python 3",
   "language": "python",
   "name": "python3"
  },
  "language_info": {
   "codemirror_mode": {
    "name": "ipython"
   },
   "file_extension": ".py",
   "mimetype": "text/x-python",
   "name": "python",
   "nbconvert_exporter": "python"
  }
 },
 "nbformat": 4,
 "nbformat_minor": 2
}
