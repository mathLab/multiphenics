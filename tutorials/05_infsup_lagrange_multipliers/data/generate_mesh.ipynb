{
 "cells": [
  {
   "cell_type": "markdown",
   "metadata": {},
   "source": [
    "# Mesh generation for tutorial 05"
   ]
  },
  {
   "cell_type": "code",
   "execution_count": null,
   "metadata": {},
   "outputs": [],
   "source": [
    "import numpy as np\n",
    "import pygmsh\n",
    "from mpi4py import MPI\n",
    "from dolfinx import cpp\n",
    "from dolfinx.mesh import create_mesh, create_meshtags\n",
    "from dolfinx.io import ufl_mesh_from_gmsh, XDMFFile\n",
    "from dolfinx.plotting import plot"
   ]
  },
  {
   "cell_type": "code",
   "execution_count": null,
   "metadata": {},
   "outputs": [],
   "source": [
    "assert MPI.COMM_WORLD.size == 1, \"This mesh generation notebook is supposed to be run in serial\""
   ]
  },
  {
   "cell_type": "markdown",
   "metadata": {},
   "source": [
    "### Geometrical parameters"
   ]
  },
  {
   "cell_type": "code",
   "execution_count": null,
   "metadata": {},
   "outputs": [],
   "source": [
    "r = 3\n",
    "lcar = 1. / 4."
   ]
  },
  {
   "cell_type": "markdown",
   "metadata": {},
   "source": [
    "### Create pygmsh mesh"
   ]
  },
  {
   "cell_type": "code",
   "execution_count": null,
   "metadata": {},
   "outputs": [],
   "source": [
    "geom = pygmsh.geo.Geometry()\n",
    "c0 = geom.add_circle([0.0, 0.0, 0.0], r, lcar)\n",
    "geom.add_physical(c0.plane_surface, label=0)\n",
    "geom.add_physical(c0.line_loop.lines, label=1)\n",
    "pygmsh_mesh = pygmsh.generate_mesh(geom)"
   ]
  },
  {
   "cell_type": "markdown",
   "metadata": {},
   "source": [
    "### Convert to a dolfinx mesh"
   ]
  },
  {
   "cell_type": "code",
   "execution_count": null,
   "metadata": {},
   "outputs": [],
   "source": [
    "cells, x = pygmsh_mesh.cells_dict[\"triangle\"], pygmsh_mesh.points[:, :2]\n",
    "mesh = create_mesh(MPI.COMM_WORLD, cells, x, ufl_mesh_from_gmsh(\"triangle\", x.shape[1]))"
   ]
  },
  {
   "cell_type": "code",
   "execution_count": null,
   "metadata": {},
   "outputs": [],
   "source": [
    "plot(mesh)"
   ]
  },
  {
   "cell_type": "markdown",
   "metadata": {},
   "source": [
    "### Extract boundaries as MeshTags"
   ]
  },
  {
   "cell_type": "code",
   "execution_count": null,
   "metadata": {},
   "outputs": [],
   "source": [
    "boundaries_entities = pygmsh_mesh.cells_dict[\"line\"]\n",
    "boundaries_values = pygmsh_mesh.cell_data_dict[\"gmsh:physical\"][\"line\"]\n",
    "mesh.topology.create_connectivity(mesh.topology.dim - 1, 0)\n",
    "boundaries = create_meshtags(mesh, mesh.topology.dim - 1,\n",
    "                             cpp.graph.AdjacencyList_int32(boundaries_entities), np.int32(boundaries_values))\n",
    "boundaries.name = \"boundaries\""
   ]
  },
  {
   "cell_type": "markdown",
   "metadata": {},
   "source": [
    "### Save mesh and boundaries"
   ]
  },
  {
   "cell_type": "code",
   "execution_count": null,
   "metadata": {},
   "outputs": [],
   "source": [
    "with XDMFFile(MPI.COMM_WORLD, \"circle.xdmf\", \"w\") as file:\n",
    "    file.write_mesh(mesh)\n",
    "    mesh.topology.create_connectivity(mesh.topology.dim - 1, mesh.topology.dim)\n",
    "    file.write_meshtags(boundaries)"
   ]
  }
 ],
 "metadata": {
  "kernelspec": {
   "display_name": "Python 3",
   "language": "python",
   "name": "python3"
  },
  "language_info": {
   "codemirror_mode": {
    "name": "ipython"
   },
   "file_extension": ".py",
   "mimetype": "text/x-python",
   "name": "python",
   "nbconvert_exporter": "python"
  }
 },
 "nbformat": 4,
 "nbformat_minor": 2
}
