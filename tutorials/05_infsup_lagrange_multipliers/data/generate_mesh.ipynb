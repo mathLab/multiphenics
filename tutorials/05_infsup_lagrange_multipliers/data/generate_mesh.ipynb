{
 "cells": [
  {
   "cell_type": "markdown",
   "metadata": {},
   "source": [
    "# Mesh generation for tutorial 05"
   ]
  },
  {
   "cell_type": "code",
   "execution_count": null,
   "metadata": {},
   "outputs": [],
   "source": [
    "import os\n",
    "import meshio\n",
    "import pygmsh\n",
    "from dolfinx import MPI\n",
    "from dolfinx.io import XDMFFile\n",
    "from dolfinx.plotting import plot"
   ]
  },
  {
   "cell_type": "markdown",
   "metadata": {},
   "source": [
    "### Geometrical parameters"
   ]
  },
  {
   "cell_type": "code",
   "execution_count": null,
   "metadata": {},
   "outputs": [],
   "source": [
    "r = 3\n",
    "lcar = 1. / 4."
   ]
  },
  {
   "cell_type": "markdown",
   "metadata": {},
   "source": [
    "### Create mesh"
   ]
  },
  {
   "cell_type": "code",
   "execution_count": null,
   "metadata": {},
   "outputs": [],
   "source": [
    "geom = pygmsh.built_in.Geometry()\n",
    "c0 = geom.add_circle([0.0, 0.0, 0.0], r, lcar)\n",
    "geom.add_physical(c0.plane_surface, label=0)\n",
    "geom.add_physical(c0.line_loop.lines, label=1)\n",
    "pygmsh_mesh = pygmsh.generate_mesh(geom)"
   ]
  },
  {
   "cell_type": "markdown",
   "metadata": {},
   "source": [
    "### Save temporary mesh (pygmsh format)"
   ]
  },
  {
   "cell_type": "code",
   "execution_count": null,
   "metadata": {},
   "outputs": [],
   "source": [
    "meshio.write(\"circle_tmp.xdmf\", meshio.Mesh(\n",
    "    points=pygmsh_mesh.points[:, :2],\n",
    "    cells={\"triangle\": pygmsh_mesh.cells_dict[\"triangle\"]}\n",
    "))"
   ]
  },
  {
   "cell_type": "markdown",
   "metadata": {},
   "source": [
    "### Save temporary boundaries (pygmsh format)"
   ]
  },
  {
   "cell_type": "code",
   "execution_count": null,
   "metadata": {},
   "outputs": [],
   "source": [
    "meshio.write(\"circle_boundaries_tmp.xdmf\", meshio.Mesh(\n",
    "    points=pygmsh_mesh.points[:, :2],\n",
    "    cells={\"line\": pygmsh_mesh.cells_dict[\"line\"]},\n",
    "    cell_data={\"boundaries\": [pygmsh_mesh.cell_data_dict[\"gmsh:physical\"][\"line\"]]}\n",
    "))"
   ]
  },
  {
   "cell_type": "markdown",
   "metadata": {},
   "source": [
    "### Read back in mesh (dolfinx format)"
   ]
  },
  {
   "cell_type": "code",
   "execution_count": null,
   "metadata": {},
   "outputs": [],
   "source": [
    "with XDMFFile(MPI.comm_world, \"circle_tmp.xdmf\", \"r\") as infile:\n",
    "    mesh = infile.read_mesh(name=\"Grid\")\n",
    "    mesh.name = \"mesh\""
   ]
  },
  {
   "cell_type": "code",
   "execution_count": null,
   "metadata": {},
   "outputs": [],
   "source": [
    "plot(mesh)"
   ]
  },
  {
   "cell_type": "markdown",
   "metadata": {},
   "source": [
    "### Read back in boundaries (dolfinx format)"
   ]
  },
  {
   "cell_type": "code",
   "execution_count": null,
   "metadata": {},
   "outputs": [],
   "source": [
    "mesh.create_connectivity_all()\n",
    "with XDMFFile(MPI.comm_world, \"circle_boundaries_tmp.xdmf\", \"r\") as infile:\n",
    "    boundaries = infile.read_meshtags(mesh, name=\"Grid\")\n",
    "    boundaries.name = \"boundaries\""
   ]
  },
  {
   "cell_type": "markdown",
   "metadata": {},
   "source": [
    "### Save final mesh and boundaries (dolfinx format)"
   ]
  },
  {
   "cell_type": "code",
   "execution_count": null,
   "metadata": {},
   "outputs": [],
   "source": [
    "with XDMFFile(MPI.comm_world, \"circle.xdmf\", \"w\") as file:\n",
    "    file.write_mesh(mesh)\n",
    "    file.write_meshtags(boundaries)"
   ]
  },
  {
   "cell_type": "code",
   "execution_count": null,
   "metadata": {},
   "outputs": [],
   "source": [
    "os.remove(\"circle_tmp.xdmf\")\n",
    "os.remove(\"circle_tmp.h5\")\n",
    "os.remove(\"circle_boundaries_tmp.xdmf\")\n",
    "os.remove(\"circle_boundaries_tmp.h5\")"
   ]
  }
 ],
 "metadata": {
  "kernelspec": {
   "display_name": "Python 3",
   "language": "python",
   "name": "python3"
  },
  "language_info": {
   "codemirror_mode": {
    "name": "ipython"
   },
   "file_extension": ".py",
   "mimetype": "text/x-python",
   "name": "python",
   "nbconvert_exporter": "python"
  }
 },
 "nbformat": 4,
 "nbformat_minor": 2
}
