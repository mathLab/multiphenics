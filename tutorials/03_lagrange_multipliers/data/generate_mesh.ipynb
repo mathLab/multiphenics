{
 "cells": [
  {
   "cell_type": "markdown",
   "metadata": {},
   "source": [
    "# Mesh generation for tutorial 03"
   ]
  },
  {
   "cell_type": "code",
   "execution_count": null,
   "metadata": {},
   "outputs": [],
   "source": [
    "import os\n",
    "import meshio\n",
    "import pygmsh\n",
    "from dolfinx import MPI\n",
    "from dolfinx.io import XDMFFile\n",
    "from dolfinx.plotting import plot"
   ]
  },
  {
   "cell_type": "markdown",
   "metadata": {},
   "source": [
    "### Geometrical parameters"
   ]
  },
  {
   "cell_type": "code",
   "execution_count": null,
   "metadata": {},
   "outputs": [],
   "source": [
    "r = 3\n",
    "lcar = 1. / 4."
   ]
  },
  {
   "cell_type": "markdown",
   "metadata": {},
   "source": [
    "### Create mesh"
   ]
  },
  {
   "cell_type": "code",
   "execution_count": null,
   "metadata": {},
   "outputs": [],
   "source": [
    "geom = pygmsh.built_in.Geometry()\n",
    "p0 = geom.add_point([0.0, 0.0, 0.0], lcar)\n",
    "p1 = geom.add_point([0.0, +r, 0.0], lcar)\n",
    "p2 = geom.add_point([0.0, -r, 0.0], lcar)\n",
    "c0 = geom.add_circle_arc(p1, p0, p2)\n",
    "c1 = geom.add_circle_arc(p2, p0, p1)\n",
    "l0 = geom.add_line(p2, p1)\n",
    "geom.add_physical([c0, c1], label=1)\n",
    "geom.add_physical(l0, label=2)\n",
    "line_loop_left = geom.add_line_loop([c0, l0])\n",
    "line_loop_right = geom.add_line_loop([c1, -l0])\n",
    "semicircle_left = geom.add_plane_surface(line_loop_left)\n",
    "semicircle_right = geom.add_plane_surface(line_loop_right)\n",
    "geom.add_physical(semicircle_left, label=11)\n",
    "geom.add_physical(semicircle_right, label=12)\n",
    "pygmsh_mesh = pygmsh.generate_mesh(geom)"
   ]
  },
  {
   "cell_type": "markdown",
   "metadata": {},
   "source": [
    "### Save temporary mesh and subdomains (pygmsh format)"
   ]
  },
  {
   "cell_type": "code",
   "execution_count": null,
   "metadata": {},
   "outputs": [],
   "source": [
    "meshio.write(\"circle_tmp.xdmf\", meshio.Mesh(\n",
    "    points=pygmsh_mesh.points[:, :2],\n",
    "    cells={\"triangle\": pygmsh_mesh.cells_dict[\"triangle\"]},\n",
    "    cell_data={\"subdomains\": [pygmsh_mesh.cell_data_dict[\"gmsh:physical\"][\"triangle\"] - 10]}\n",
    "))"
   ]
  },
  {
   "cell_type": "markdown",
   "metadata": {},
   "source": [
    "### Save temporary boundaries (pygmsh format)"
   ]
  },
  {
   "cell_type": "code",
   "execution_count": null,
   "metadata": {},
   "outputs": [],
   "source": [
    "meshio.write(\"circle_boundaries_tmp.xdmf\", meshio.Mesh(\n",
    "    points=pygmsh_mesh.points[:, :2],\n",
    "    cells={\"line\": pygmsh_mesh.cells_dict[\"line\"]},\n",
    "    cell_data={\"boundaries\": [pygmsh_mesh.cell_data_dict[\"gmsh:physical\"][\"line\"]]}\n",
    "))"
   ]
  },
  {
   "cell_type": "markdown",
   "metadata": {},
   "source": [
    "### Read back in mesh (dolfinx format)"
   ]
  },
  {
   "cell_type": "code",
   "execution_count": null,
   "metadata": {},
   "outputs": [],
   "source": [
    "with XDMFFile(MPI.comm_world, \"circle_tmp.xdmf\", \"r\") as infile:\n",
    "    mesh = infile.read_mesh(name=\"Grid\")\n",
    "    mesh.name = \"mesh\""
   ]
  },
  {
   "cell_type": "code",
   "execution_count": null,
   "metadata": {},
   "outputs": [],
   "source": [
    "plot(mesh)"
   ]
  },
  {
   "cell_type": "markdown",
   "metadata": {},
   "source": [
    "### Read back in subdomains and boundaries (dolfinx format)"
   ]
  },
  {
   "cell_type": "code",
   "execution_count": null,
   "metadata": {},
   "outputs": [],
   "source": [
    "mesh.create_connectivity_all()\n",
    "with XDMFFile(MPI.comm_world, \"circle_tmp.xdmf\", \"r\") as infile:\n",
    "    subdomains = infile.read_meshtags(mesh, name=\"Grid\")\n",
    "    subdomains.name = \"subdomains\"\n",
    "with XDMFFile(MPI.comm_world, \"circle_boundaries_tmp.xdmf\", \"r\") as infile:\n",
    "    boundaries = infile.read_meshtags(mesh, name=\"Grid\")\n",
    "    boundaries.name = \"boundaries\""
   ]
  },
  {
   "cell_type": "markdown",
   "metadata": {},
   "source": [
    "### Save final mesh, subdomains and boundaries (dolfinx format)"
   ]
  },
  {
   "cell_type": "code",
   "execution_count": null,
   "metadata": {},
   "outputs": [],
   "source": [
    "with XDMFFile(MPI.comm_world, \"circle.xdmf\", \"w\") as file:\n",
    "    file.write_mesh(mesh)\n",
    "    file.write_meshtags(subdomains)\n",
    "    file.write_meshtags(boundaries)"
   ]
  },
  {
   "cell_type": "code",
   "execution_count": null,
   "metadata": {},
   "outputs": [],
   "source": [
    "os.remove(\"circle_tmp.xdmf\")\n",
    "os.remove(\"circle_tmp.h5\")\n",
    "os.remove(\"circle_boundaries_tmp.xdmf\")\n",
    "os.remove(\"circle_boundaries_tmp.h5\")"
   ]
  }
 ],
 "metadata": {
  "kernelspec": {
   "display_name": "Python 3",
   "language": "python",
   "name": "python3"
  },
  "language_info": {
   "codemirror_mode": {
    "name": "ipython"
   },
   "file_extension": ".py",
   "mimetype": "text/x-python",
   "name": "python",
   "nbconvert_exporter": "python"
  }
 },
 "nbformat": 4,
 "nbformat_minor": 2
}
