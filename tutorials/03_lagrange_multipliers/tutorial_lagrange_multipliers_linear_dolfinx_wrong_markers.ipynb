{
 "cells": [
  {
   "cell_type": "markdown",
   "metadata": {},
   "source": [
    "# Tutorial 03: weak imposition of Dirichlet BCs by a Lagrange multiplier (linear problem), with wrong boundary markers\n",
    "\n",
    "In this tutorial we solve the problem\n",
    "\n",
    "$$\\begin{cases}\n",
    "-\\Delta u = f, & \\text{in } \\Omega,\\\\\n",
    " u   = g, & \\text{on } \\Gamma = \\partial\\Omega,\n",
    "\\end{cases}$$\n",
    "\n",
    "where $\\Omega$ is the unit ball in 2D.\n",
    "\n",
    "We compare the following two cases:\n",
    "* **strong imposition of Dirichlet BCs**:\n",
    "the corresponding weak formulation is\n",
    "$$\n",
    "\\text{find } u \\in V_g \\text{ s.t. } \\int_\\Omega \\nabla u \\cdot \\nabla v = \\int_\\Omega f v, \\quad \\forall v \\in V_0\\\\\n",
    "$$\n",
    "where\n",
    "$$\n",
    "V_g = \\{v \\in H^1(\\Omega): v|_\\Gamma = g\\},\\\\\n",
    "V_0 = \\{v \\in H^1(\\Omega): v|_\\Gamma = 0\\}.\\\\\n",
    "$$\n",
    "* **weak imposition of Dirichlet BCs**: this requires an introduction of a multiplier $\\lambda$ which is restricted to $\\Gamma$, and solves\n",
    "$$\n",
    "\\text{find } w, \\lambda \\in V \\times M \\text{ s.t. }\\\\\n",
    "\\begin{cases}\n",
    "\\int_\\Omega \\nabla w \\cdot \\nabla v + \\int_\\Gamma \\lambda v = \\int_\\Omega f v, & \\forall v \\in V,\\\\\n",
    "\\int_\\Gamma w \\mu = \\int_\\Gamma g \\mu, & \\forall \\mu \\in M\n",
    "\\end{cases}\n",
    "$$\n",
    "where\n",
    "$$\n",
    "V = H^1(\\Omega),\\\\\n",
    "M = L^{2}(\\Gamma).\\\\\n",
    "$$\n",
    "\n",
    "This example (accompanied by the corresponding DOLFIN 2020 one at the other link) assesses the robustness of the variable restriction to errors in the marking procedure."
   ]
  },
  {
   "cell_type": "code",
   "execution_count": null,
   "metadata": {},
   "outputs": [],
   "source": [
    "import matplotlib\n",
    "import matplotlib.collections\n",
    "import matplotlib.pyplot as plt\n",
    "import matplotlib.tri as tri\n",
    "import numpy as np\n",
    "from mpl_toolkits.axes_grid1 import make_axes_locatable\n",
    "from mpi4py import MPI\n",
    "from petsc4py import PETSc\n",
    "from ufl import dx, grad, inner, Measure, TestFunction, TrialFunction\n",
    "from dolfinx import DirichletBC, Function, FunctionSpace, MeshTags, solve, UnitSquareMesh\n",
    "from dolfinx.cpp.mesh import midpoints\n",
    "from dolfinx.fem import (assemble_matrix_block, assemble_scalar, assemble_vector_block,\n",
    "                         BlockVecSubVectorWrapper, create_vector_block, DofMapRestriction,\n",
    "                         locate_dofs_topological)\n",
    "from dolfinx.plotting import plot"
   ]
  },
  {
   "cell_type": "markdown",
   "metadata": {},
   "source": [
    "### Tolerance for boundary marking"
   ]
  },
  {
   "cell_type": "code",
   "execution_count": null,
   "metadata": {},
   "outputs": [],
   "source": [
    "tol = np.finfo(float).eps\n",
    "# tol = 0.4"
   ]
  },
  {
   "cell_type": "markdown",
   "metadata": {},
   "source": [
    "### Auxiliary functions for plotting (copied from tutorial 07)"
   ]
  },
  {
   "cell_type": "code",
   "execution_count": null,
   "metadata": {},
   "outputs": [],
   "source": [
    "def plot_mesh(mesh, ax=None):\n",
    "    if ax is None:\n",
    "        ax = plt.gca()\n",
    "    ax.set_aspect(\"equal\")\n",
    "    points = mesh.geometry.x\n",
    "    cells = mesh.geometry.dofmap.array().reshape((-1, mesh.topology.dim + 1))\n",
    "    tria = tri.Triangulation(points[:, 0], points[:, 1], cells)\n",
    "    ax.triplot(tria, color=\"k\")\n",
    "    return ax"
   ]
  },
  {
   "cell_type": "code",
   "execution_count": null,
   "metadata": {},
   "outputs": [],
   "source": [
    "def plot_mesh_tags(mesh_tags, ax=None):\n",
    "    if ax is None:\n",
    "        ax = plt.gca()\n",
    "    ax.set_aspect(\"equal\")\n",
    "    mesh = mesh_tags.mesh\n",
    "    points = mesh.geometry.x\n",
    "    colors = [\"b\", \"r\"]\n",
    "    cmap = matplotlib.colors.ListedColormap(colors)\n",
    "    cmap_bounds = [0, 0.5, 1]\n",
    "    norm = matplotlib.colors.BoundaryNorm(cmap_bounds, cmap.N)\n",
    "    assert mesh_tags.dim in (mesh.topology.dim, mesh.topology.dim - 1)\n",
    "    if mesh_tags.dim == mesh.topology.dim:\n",
    "        cells = mesh.geometry.dofmap.array().reshape((-1, mesh.topology.dim + 1))\n",
    "        tria = tri.Triangulation(points[:, 0], points[:, 1], cells)\n",
    "        cell_colors = np.zeros((cells.shape[0], ))\n",
    "        cell_colors[mesh_tags.indices[mesh_tags.values == 1]] = 1\n",
    "        mappable = ax.tripcolor(tria, cell_colors, edgecolor=\"k\", cmap=cmap, norm=norm)\n",
    "    elif mesh_tags.dim == mesh.topology.dim - 1:\n",
    "        tdim = mesh.topology.dim\n",
    "        geometry_dofmap = mesh.geometry.dofmap\n",
    "        cells_map = mesh.topology.index_map(mesh.topology.dim)\n",
    "        num_cells = cells_map.size_local + cells_map.num_ghosts\n",
    "        connectivity_cells_to_facets = mesh.topology.connectivity(tdim, tdim - 1)\n",
    "        connectivity_cells_to_vertices = mesh.topology.connectivity(tdim, 0)\n",
    "        connectivity_facets_to_vertices = mesh.topology.connectivity(tdim - 1, 0)\n",
    "        vertex_map = {topology_index: geometry_index\n",
    "                      for c in range(num_cells)\n",
    "                      for (topology_index, geometry_index) in zip(\n",
    "                          connectivity_cells_to_vertices.links(c), geometry_dofmap.links(c))}\n",
    "        linestyles = [\"solid\", \"solid\"]\n",
    "        lines = list()\n",
    "        lines_colors_as_int = list()\n",
    "        lines_colors_as_str = list()\n",
    "        lines_linestyles = list()\n",
    "        mesh_tags_1 = mesh_tags.indices[mesh_tags.values == 1]\n",
    "        for c in range(num_cells):\n",
    "            facets = connectivity_cells_to_facets.links(c)\n",
    "            for f in facets:\n",
    "                if f in mesh_tags_1:\n",
    "                    value_f = 1\n",
    "                else:\n",
    "                    value_f = 0\n",
    "                vertices = [vertex_map[v] for v in connectivity_facets_to_vertices.links(f)]\n",
    "                lines.append(points[vertices][:, :2])\n",
    "                lines_colors_as_int.append(value_f)\n",
    "                lines_colors_as_str.append(colors[value_f])\n",
    "                lines_linestyles.append(linestyles[value_f])\n",
    "        mappable = matplotlib.collections.LineCollection(lines, cmap=cmap, norm=norm,\n",
    "                                                         colors=lines_colors_as_str,\n",
    "                                                         linestyles=lines_linestyles)\n",
    "        mappable.set_array(np.array(lines_colors_as_int))\n",
    "        ax.add_collection(mappable)\n",
    "        ax.autoscale()\n",
    "    divider = make_axes_locatable(ax)\n",
    "    cax = divider.append_axes(\"right\", size=\"5%\", pad=0.05)\n",
    "    plt.colorbar(mappable, cax=cax, cmap=cmap, norm=norm, boundaries=cmap_bounds, ticks=cmap_bounds)\n",
    "    return ax"
   ]
  },
  {
   "cell_type": "markdown",
   "metadata": {},
   "source": [
    "### Helper function for (possibly wrong!) boundary marking"
   ]
  },
  {
   "cell_type": "code",
   "execution_count": null,
   "metadata": {},
   "outputs": [],
   "source": [
    "def mark_boundary(tol):\n",
    "    tdim = mesh.topology.dim\n",
    "    cells_map = mesh.topology.index_map(mesh.topology.dim)\n",
    "    num_cells = cells_map.size_local + cells_map.num_ghosts\n",
    "    mesh.create_connectivity(mesh.topology.dim - 1, mesh.topology.dim)\n",
    "    facets_map = mesh.topology.index_map(mesh.topology.dim - 1)\n",
    "    num_facets = facets_map.size_local + facets_map.num_ghosts\n",
    "    connectivity_cells_to_facets = mesh.topology.connectivity(tdim, tdim - 1)\n",
    "    facet_midpoints = midpoints(mesh, tdim - 1, range(num_facets))\n",
    "\n",
    "    def on_boundary(x):\n",
    "        def near(x, a, tol):\n",
    "            return np.abs(x - a) < tol\n",
    "\n",
    "        return np.logical_or(\n",
    "            np.logical_or(near(x[0], 0.0, tol), near(x[0], 1.0, tol)),\n",
    "            np.logical_or(near(x[1], 0.0, tol), near(x[1], 1.0, tol)))\n",
    "\n",
    "    boundary_facets = list()\n",
    "    for c in range(num_cells):\n",
    "        facets = connectivity_cells_to_facets.links(c)\n",
    "        for f in facets:\n",
    "            if on_boundary(facet_midpoints[f]):\n",
    "                boundary_facets.append(f)\n",
    "    boundary_facets = np.array(boundary_facets)\n",
    "    boundary_values = np.ones(boundary_facets.shape, dtype=np.int32)\n",
    "\n",
    "    return MeshTags(mesh, mesh.topology.dim - 1, boundary_facets, boundary_values)"
   ]
  },
  {
   "cell_type": "markdown",
   "metadata": {},
   "source": [
    "### Mesh"
   ]
  },
  {
   "cell_type": "code",
   "execution_count": null,
   "metadata": {},
   "outputs": [],
   "source": [
    "mesh = UnitSquareMesh(MPI.COMM_WORLD, 32, 32)\n",
    "boundaries = mark_boundary(tol)\n",
    "facets_Gamma = boundaries.indices[boundaries.values == 1]"
   ]
  },
  {
   "cell_type": "code",
   "execution_count": null,
   "metadata": {},
   "outputs": [],
   "source": [
    "plot_mesh(mesh)"
   ]
  },
  {
   "cell_type": "code",
   "execution_count": null,
   "metadata": {},
   "outputs": [],
   "source": [
    "plot_mesh_tags(boundaries)"
   ]
  },
  {
   "cell_type": "code",
   "execution_count": null,
   "metadata": {},
   "outputs": [],
   "source": [
    "# Define associated measures\n",
    "ds = Measure(\"ds\")(subdomain_data=boundaries)"
   ]
  },
  {
   "cell_type": "markdown",
   "metadata": {},
   "source": [
    "### Weak (and possibly wrong!) imposition of Dirichlet BCs"
   ]
  },
  {
   "cell_type": "code",
   "execution_count": null,
   "metadata": {},
   "outputs": [],
   "source": [
    "# Define a function space\n",
    "V = FunctionSpace(mesh, (\"Lagrange\", 2))\n",
    "M = V.clone()"
   ]
  },
  {
   "cell_type": "code",
   "execution_count": null,
   "metadata": {},
   "outputs": [],
   "source": [
    "# Define restrictions\n",
    "dofs_V = np.arange(0, V.dofmap.index_map.block_size * (\n",
    "    V.dofmap.index_map.size_local + V.dofmap.index_map.num_ghosts))\n",
    "dofs_M_Gamma = locate_dofs_topological(M, boundaries.dim, facets_Gamma)\n",
    "restriction_V = DofMapRestriction(V.dofmap, dofs_V)\n",
    "restriction_M_Gamma = DofMapRestriction(M.dofmap, dofs_M_Gamma)\n",
    "restriction = [restriction_V, restriction_M_Gamma]"
   ]
  },
  {
   "cell_type": "code",
   "execution_count": null,
   "metadata": {},
   "outputs": [],
   "source": [
    "# Define trial and test functions\n",
    "(u, l) = (TrialFunction(V), TrialFunction(M))\n",
    "(v, m) = (TestFunction(V), TestFunction(M))"
   ]
  },
  {
   "cell_type": "code",
   "execution_count": null,
   "metadata": {},
   "outputs": [],
   "source": [
    "# Define problem block forms\n",
    "g = Function(V)\n",
    "g.interpolate(lambda x: np.sin(3 * np.pi * x[0] + 1) * np.sin(3 * np.pi * x[1] + 1))\n",
    "a = [[inner(grad(u), grad(v)) * dx, l * v * ds],\n",
    "     [u * m * ds, None]]\n",
    "f = [v * dx, g * m * ds]"
   ]
  },
  {
   "cell_type": "code",
   "execution_count": null,
   "metadata": {},
   "outputs": [],
   "source": [
    "# Assemble the block linear system\n",
    "A = assemble_matrix_block(a, bcs=[], restriction=(restriction, restriction))\n",
    "A.assemble()\n",
    "F = assemble_vector_block(f, a, bcs=[], restriction=restriction)"
   ]
  },
  {
   "cell_type": "code",
   "execution_count": null,
   "metadata": {},
   "outputs": [],
   "source": [
    "# Solve\n",
    "ul = create_vector_block(f, restriction=restriction)\n",
    "ksp = PETSc.KSP()\n",
    "ksp.create(mesh.mpi_comm())\n",
    "ksp.setOperators(A)\n",
    "ksp.setType(\"preonly\")\n",
    "ksp.getPC().setType(\"lu\")\n",
    "ksp.getPC().setFactorSolverType(\"mumps\")\n",
    "ksp.setFromOptions()\n",
    "ksp.solve(F, ul)\n",
    "ul.ghostUpdate(addv=PETSc.InsertMode.INSERT, mode=PETSc.ScatterMode.FORWARD)\n",
    "print(ul.norm())"
   ]
  },
  {
   "cell_type": "code",
   "execution_count": null,
   "metadata": {},
   "outputs": [],
   "source": [
    "# Split the block solution in components\n",
    "(u, l) = (Function(V), Function(M))\n",
    "with BlockVecSubVectorWrapper(ul, [V.dofmap, M.dofmap], restriction) as ul_wrapper:\n",
    "    for ul_wrapper_local, component in zip(ul_wrapper, (u, l)):\n",
    "        with component.vector.localForm() as component_local:\n",
    "            component_local[:] = ul_wrapper_local"
   ]
  },
  {
   "cell_type": "code",
   "execution_count": null,
   "metadata": {},
   "outputs": [],
   "source": [
    "plot(u)"
   ]
  },
  {
   "cell_type": "code",
   "execution_count": null,
   "metadata": {},
   "outputs": [],
   "source": [
    "plot(l)"
   ]
  },
  {
   "cell_type": "markdown",
   "metadata": {},
   "source": [
    "### Strong (and correct) imposition of Dirichlet BCs for comparison"
   ]
  },
  {
   "cell_type": "code",
   "execution_count": null,
   "metadata": {},
   "outputs": [],
   "source": [
    "# Define Dirichlet BC object on Gamma\n",
    "boundaries_ex = mark_boundary(np.finfo(float).eps)\n",
    "facets_Gamma_ex = boundaries_ex.indices[boundaries_ex.values == 1]\n",
    "dofs_V_Gamma_ex = locate_dofs_topological(V, boundaries.dim, facets_Gamma_ex)\n",
    "bc_ex = DirichletBC(g, dofs_V_Gamma_ex)"
   ]
  },
  {
   "cell_type": "code",
   "execution_count": null,
   "metadata": {},
   "outputs": [],
   "source": [
    "# Solve\n",
    "u_ex = Function(V)\n",
    "solve(a[0][0] == f[0], u_ex, bc_ex,\n",
    "      petsc_options={\"ksp_type\": \"preonly\", \"pc_type\": \"lu\", \"pc_factor_mat_solver_type\": \"mumps\"})\n",
    "u_ex.vector.ghostUpdate(addv=PETSc.InsertMode.INSERT, mode=PETSc.ScatterMode.FORWARD)"
   ]
  },
  {
   "cell_type": "code",
   "execution_count": null,
   "metadata": {},
   "outputs": [],
   "source": [
    "plot(u_ex)"
   ]
  },
  {
   "cell_type": "markdown",
   "metadata": {},
   "source": [
    "### Comparison and error compuation"
   ]
  },
  {
   "cell_type": "code",
   "execution_count": null,
   "metadata": {},
   "outputs": [],
   "source": [
    "u_ex_norm = np.sqrt(mesh.mpi_comm().allreduce(assemble_scalar(inner(grad(u_ex), grad(u_ex)) * dx), op=MPI.SUM))\n",
    "err_norm = np.sqrt(mesh.mpi_comm().allreduce(assemble_scalar(inner(grad(u_ex - u), grad(u_ex - u)) * dx), op=MPI.SUM))\n",
    "print(\"Relative error is equal to\", err_norm / u_ex_norm)"
   ]
  }
 ],
 "metadata": {
  "kernelspec": {
   "display_name": "Python 3",
   "language": "python",
   "name": "python3"
  },
  "language_info": {
   "codemirror_mode": {
    "name": "ipython"
   },
   "file_extension": ".py",
   "mimetype": "text/x-python",
   "name": "python",
   "nbconvert_exporter": "python"
  }
 },
 "nbformat": 4,
 "nbformat_minor": 2
}
