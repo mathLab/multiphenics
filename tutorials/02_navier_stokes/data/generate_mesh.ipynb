{
 "cells": [
  {
   "cell_type": "markdown",
   "metadata": {},
   "source": [
    "# Mesh generation for tutorial 02"
   ]
  },
  {
   "cell_type": "code",
   "execution_count": null,
   "metadata": {},
   "outputs": [],
   "source": [
    "import numpy as np\n",
    "import pygmsh\n",
    "from mpi4py import MPI\n",
    "from dolfinx import cpp\n",
    "from dolfinx.mesh import create_mesh, create_meshtags\n",
    "from dolfinx.io import ufl_mesh_from_gmsh, XDMFFile\n",
    "from dolfinx.plotting import plot"
   ]
  },
  {
   "cell_type": "code",
   "execution_count": null,
   "metadata": {},
   "outputs": [],
   "source": [
    "assert MPI.COMM_WORLD.size == 1, \"This mesh generation notebook is supposed to be run in serial\""
   ]
  },
  {
   "cell_type": "markdown",
   "metadata": {},
   "source": [
    "### Geometrical parameters"
   ]
  },
  {
   "cell_type": "code",
   "execution_count": null,
   "metadata": {},
   "outputs": [],
   "source": [
    "pre_step_length = 4.\n",
    "after_step_length = 14.\n",
    "pre_step_height = 3.\n",
    "after_step_height = 5.\n",
    "lcar = 1. / 5."
   ]
  },
  {
   "cell_type": "markdown",
   "metadata": {},
   "source": [
    "### Create pygmsh mesh"
   ]
  },
  {
   "cell_type": "code",
   "execution_count": null,
   "metadata": {},
   "outputs": [],
   "source": [
    "geom = pygmsh.geo.Geometry()\n",
    "p0 = geom.add_point([0.0, after_step_height - pre_step_height, 0.0], lcar)\n",
    "p1 = geom.add_point([pre_step_length, after_step_height - pre_step_height, 0.0], lcar)\n",
    "p2 = geom.add_point([pre_step_length, 0.0, 0.0], lcar)\n",
    "p3 = geom.add_point([pre_step_length + after_step_length, 0.0, 0.0], lcar)\n",
    "p4 = geom.add_point([pre_step_length + after_step_length, after_step_height, 0.0], lcar)\n",
    "p5 = geom.add_point([0.0, after_step_height, 0.0], lcar)\n",
    "l0 = geom.add_line(p0, p1)\n",
    "l1 = geom.add_line(p1, p2)\n",
    "l2 = geom.add_line(p2, p3)\n",
    "l3 = geom.add_line(p3, p4)\n",
    "l4 = geom.add_line(p4, p5)\n",
    "l5 = geom.add_line(p5, p0)\n",
    "geom.add_physical([l5], label=1)\n",
    "geom.add_physical([l0, l1, l2, l4], label=2)\n",
    "line_loop = geom.add_line_loop([l0, l1, l2, l3, l4, l5])\n",
    "domain = geom.add_plane_surface(line_loop)\n",
    "geom.add_physical(domain, label=0)\n",
    "pygmsh_mesh = pygmsh.generate_mesh(geom)"
   ]
  },
  {
   "cell_type": "markdown",
   "metadata": {},
   "source": [
    "### Convert to a dolfinx mesh"
   ]
  },
  {
   "cell_type": "code",
   "execution_count": null,
   "metadata": {},
   "outputs": [],
   "source": [
    "cells, x = pygmsh_mesh.cells_dict[\"triangle\"], pygmsh_mesh.points[:, :2]\n",
    "mesh = create_mesh(MPI.COMM_WORLD, cells, x, ufl_mesh_from_gmsh(\"triangle\", x.shape[1]))"
   ]
  },
  {
   "cell_type": "code",
   "execution_count": null,
   "metadata": {},
   "outputs": [],
   "source": [
    "plot(mesh)"
   ]
  },
  {
   "cell_type": "markdown",
   "metadata": {},
   "source": [
    "### Extract boundaries as MeshTags"
   ]
  },
  {
   "cell_type": "code",
   "execution_count": null,
   "metadata": {},
   "outputs": [],
   "source": [
    "boundaries_entities = pygmsh_mesh.cells_dict[\"line\"]\n",
    "boundaries_values = pygmsh_mesh.cell_data_dict[\"gmsh:physical\"][\"line\"]\n",
    "mesh.topology.create_connectivity(mesh.topology.dim - 1, 0)\n",
    "boundaries = create_meshtags(mesh, mesh.topology.dim - 1,\n",
    "                             cpp.graph.AdjacencyList_int32(boundaries_entities), np.int32(boundaries_values))\n",
    "boundaries.name = \"boundaries\""
   ]
  },
  {
   "cell_type": "markdown",
   "metadata": {},
   "source": [
    "### Save mesh and boundaries"
   ]
  },
  {
   "cell_type": "code",
   "execution_count": null,
   "metadata": {},
   "outputs": [],
   "source": [
    "with XDMFFile(MPI.COMM_WORLD, \"backward_facing_step.xdmf\", \"w\") as file:\n",
    "    file.write_mesh(mesh)\n",
    "    mesh.topology.create_connectivity(mesh.topology.dim - 1, mesh.topology.dim)\n",
    "    file.write_meshtags(boundaries)"
   ]
  }
 ],
 "metadata": {
  "kernelspec": {
   "display_name": "Python 3",
   "language": "python",
   "name": "python3"
  },
  "language_info": {
   "codemirror_mode": {
    "name": "ipython"
   },
   "file_extension": ".py",
   "mimetype": "text/x-python",
   "name": "python",
   "nbconvert_exporter": "python"
  }
 },
 "nbformat": 4,
 "nbformat_minor": 2
}
