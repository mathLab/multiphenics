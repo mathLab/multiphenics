{
 "cells": [
  {
   "cell_type": "markdown",
   "metadata": {},
   "source": [
    "# Mesh generation for tutorial 02"
   ]
  },
  {
   "cell_type": "code",
   "execution_count": null,
   "metadata": {},
   "outputs": [],
   "source": [
    "import os\n",
    "import meshio\n",
    "import pygmsh\n",
    "from mpi4py import MPI\n",
    "from dolfinx.io import XDMFFile\n",
    "from dolfinx.plotting import plot"
   ]
  },
  {
   "cell_type": "markdown",
   "metadata": {},
   "source": [
    "### Geometrical parameters"
   ]
  },
  {
   "cell_type": "code",
   "execution_count": null,
   "metadata": {},
   "outputs": [],
   "source": [
    "pre_step_length = 4.\n",
    "after_step_length = 14.\n",
    "pre_step_height = 3.\n",
    "after_step_height = 5.\n",
    "lcar = 1. / 5."
   ]
  },
  {
   "cell_type": "markdown",
   "metadata": {},
   "source": [
    "### Create mesh"
   ]
  },
  {
   "cell_type": "code",
   "execution_count": null,
   "metadata": {},
   "outputs": [],
   "source": [
    "geom = pygmsh.built_in.Geometry()\n",
    "p0 = geom.add_point([0.0, after_step_height - pre_step_height, 0.0], lcar)\n",
    "p1 = geom.add_point([pre_step_length, after_step_height - pre_step_height, 0.0], lcar)\n",
    "p2 = geom.add_point([pre_step_length, 0.0, 0.0], lcar)\n",
    "p3 = geom.add_point([pre_step_length + after_step_length, 0.0, 0.0], lcar)\n",
    "p4 = geom.add_point([pre_step_length + after_step_length, after_step_height, 0.0], lcar)\n",
    "p5 = geom.add_point([0.0, after_step_height, 0.0], lcar)\n",
    "l0 = geom.add_line(p0, p1)\n",
    "l1 = geom.add_line(p1, p2)\n",
    "l2 = geom.add_line(p2, p3)\n",
    "l3 = geom.add_line(p3, p4)\n",
    "l4 = geom.add_line(p4, p5)\n",
    "l5 = geom.add_line(p5, p0)\n",
    "geom.add_physical([l5], label=1)\n",
    "geom.add_physical([l0, l1, l2, l4], label=2)\n",
    "line_loop = geom.add_line_loop([l0, l1, l2, l3, l4, l5])\n",
    "domain = geom.add_plane_surface(line_loop)\n",
    "geom.add_physical(domain, label=0)\n",
    "pygmsh_mesh = pygmsh.generate_mesh(geom)"
   ]
  },
  {
   "cell_type": "markdown",
   "metadata": {},
   "source": [
    "### Save temporary mesh (pygmsh format)"
   ]
  },
  {
   "cell_type": "code",
   "execution_count": null,
   "metadata": {},
   "outputs": [],
   "source": [
    "meshio.write(\"backward_facing_step_tmp.xdmf\", meshio.Mesh(\n",
    "    points=pygmsh_mesh.points[:, :2],\n",
    "    cells={\"triangle\": pygmsh_mesh.cells_dict[\"triangle\"]}\n",
    "))"
   ]
  },
  {
   "cell_type": "markdown",
   "metadata": {},
   "source": [
    "### Save temporary boundaries (pygmsh format)"
   ]
  },
  {
   "cell_type": "code",
   "execution_count": null,
   "metadata": {},
   "outputs": [],
   "source": [
    "meshio.write(\"backward_facing_step_boundaries_tmp.xdmf\", meshio.Mesh(\n",
    "    points=pygmsh_mesh.points[:, :2],\n",
    "    cells={\"line\": pygmsh_mesh.cells_dict[\"line\"]},\n",
    "    cell_data={\"boundaries\": [pygmsh_mesh.cell_data_dict[\"gmsh:physical\"][\"line\"]]}\n",
    "))"
   ]
  },
  {
   "cell_type": "markdown",
   "metadata": {},
   "source": [
    "### Read back in mesh (dolfinx format)"
   ]
  },
  {
   "cell_type": "code",
   "execution_count": null,
   "metadata": {},
   "outputs": [],
   "source": [
    "with XDMFFile(MPI.COMM_WORLD, \"backward_facing_step_tmp.xdmf\", \"r\") as infile:\n",
    "    mesh = infile.read_mesh(name=\"Grid\")\n",
    "    mesh.name = \"mesh\""
   ]
  },
  {
   "cell_type": "code",
   "execution_count": null,
   "metadata": {},
   "outputs": [],
   "source": [
    "plot(mesh)"
   ]
  },
  {
   "cell_type": "markdown",
   "metadata": {},
   "source": [
    "### Read back in boundaries (dolfinx format)"
   ]
  },
  {
   "cell_type": "code",
   "execution_count": null,
   "metadata": {},
   "outputs": [],
   "source": [
    "mesh.topology.create_connectivity_all()\n",
    "with XDMFFile(MPI.COMM_WORLD, \"backward_facing_step_boundaries_tmp.xdmf\", \"r\") as infile:\n",
    "    boundaries = infile.read_meshtags(mesh, name=\"Grid\")\n",
    "    boundaries.name = \"boundaries\""
   ]
  },
  {
   "cell_type": "markdown",
   "metadata": {},
   "source": [
    "### Save final mesh and boundaries (dolfinx format)"
   ]
  },
  {
   "cell_type": "code",
   "execution_count": null,
   "metadata": {},
   "outputs": [],
   "source": [
    "with XDMFFile(MPI.COMM_WORLD, \"backward_facing_step.xdmf\", \"w\") as file:\n",
    "    file.write_mesh(mesh)\n",
    "    file.write_meshtags(boundaries)"
   ]
  },
  {
   "cell_type": "code",
   "execution_count": null,
   "metadata": {},
   "outputs": [],
   "source": [
    "os.remove(\"backward_facing_step_tmp.xdmf\")\n",
    "os.remove(\"backward_facing_step_tmp.h5\")\n",
    "os.remove(\"backward_facing_step_boundaries_tmp.xdmf\")\n",
    "os.remove(\"backward_facing_step_boundaries_tmp.h5\")"
   ]
  }
 ],
 "metadata": {
  "kernelspec": {
   "display_name": "Python 3",
   "language": "python",
   "name": "python3"
  },
  "language_info": {
   "codemirror_mode": {
    "name": "ipython"
   },
   "file_extension": ".py",
   "mimetype": "text/x-python",
   "name": "python",
   "nbconvert_exporter": "python"
  }
 },
 "nbformat": 4,
 "nbformat_minor": 2
}
